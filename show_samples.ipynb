{
 "cells": [
  {
   "attachments": {},
   "cell_type": "markdown",
   "metadata": {},
   "source": [
    "# Display generated images\n",
    "\n",
    "Notebook for displaying samples from our datasets consisting of generated images and MNIST"
   ]
  },
  {
   "cell_type": "code",
   "execution_count": null,
   "metadata": {},
   "outputs": [],
   "source": [
    "import numpy as np\n",
    "import matplotlib.pyplot as plt\n",
    "import matplotlib.axes, matplotlib.figure\n",
    "import os.path\n",
    "np.random.seed(0)"
   ]
  },
  {
   "cell_type": "code",
   "execution_count": null,
   "metadata": {},
   "outputs": [],
   "source": [
    "enable_file_save = False # Set to True to save figures etc."
   ]
  },
  {
   "cell_type": "code",
   "execution_count": null,
   "metadata": {},
   "outputs": [],
   "source": [
    "datasets_files = [\n",
    "    'data/mnist_test.npy',\n",
    "    'data/FC_VAE_samples.npy',\n",
    "    'data/convolutional_VAE_samples.npy',\n",
    "    'data/diffusion_samples.npy',\n",
    "]\n",
    "\n",
    "dataset_titles = [\n",
    "    'MNIST test set',\n",
    "    'Simple Variational Autoencoder',\n",
    "    'Convolutional Variational Autoencoder',\n",
    "    'Diffusion model',\n",
    "]\n",
    "\n",
    "reference_dataset = 'data/mnist_train.npy'\n",
    "reference_dataset_title = 'MNIST training set'\n",
    "\n",
    "\n",
    "for file in datasets_files:\n",
    "    assert os.path.exists(file), file"
   ]
  },
  {
   "cell_type": "code",
   "execution_count": null,
   "metadata": {},
   "outputs": [],
   "source": [
    "num_samples = 20\n",
    "num_images = 10000\n",
    "selected_indices = np.random.randint(num_images, size=num_samples)\n",
    "\n",
    "def plot_images(images, title):\n",
    "    fig, axs = plt.subplots(1, len(images), figsize=(12, 1.5))\n",
    "    fig.suptitle(title)\n",
    "    \n",
    "    for i in range(len(images)):\n",
    "        ax = axs[i]\n",
    "        img = images[i]\n",
    "        img = np.clip(img, 0, 1)\n",
    "        ax.imshow(img, cmap='gray_r')\n",
    "        ax.set_xticks([]), ax.set_yticks([])\n",
    "\n",
    "    plt.show()\n",
    "\n",
    "def plot_dataset(dataset, title):\n",
    "    loaded_images = np.load(dataset)\n",
    "    assert len(loaded_images) == num_images\n",
    "\n",
    "    selected_images = np.take(loaded_images, selected_indices, axis=0)\n",
    "    plot_images(selected_images, title)\n",
    "\n",
    "plot_dataset(datasets_files[0], dataset_titles[0])"
   ]
  },
  {
   "cell_type": "code",
   "execution_count": null,
   "metadata": {},
   "outputs": [],
   "source": [
    "def plot_datasets():\n",
    "\n",
    "    fig = plt.figure(constrained_layout=True, figsize=(20, len(dataset_titles) * 1.2 + 2))\n",
    "    #fig.suptitle('Sample images from our generated image datasets (and MNIST)')\n",
    "\n",
    "    # create Dx1 subfigs\n",
    "    subfigs = fig.subfigures(nrows=len(dataset_titles), ncols=1)\n",
    "    for row, subfig in enumerate(subfigs):\n",
    "\n",
    "        subfig.suptitle(f'{dataset_titles[row]}', fontsize=20)\n",
    "        loaded_images = np.load(datasets_files[row])\n",
    "        selected_images = np.take(loaded_images, selected_indices, axis=0)\n",
    "\n",
    "        # create 1xN subplots per subfig\n",
    "        axs = subfig.subplots(nrows=1, ncols=num_samples)\n",
    "        for col, ax in enumerate(axs):\n",
    "            img = selected_images[col]\n",
    "            img = np.clip(img, 0, 1)\n",
    "            ax.imshow(img, cmap='gray_r')\n",
    "            ax.set_xticks([]), ax.set_yticks([])\n",
    "    if enable_file_save:\n",
    "        plt.savefig('plots/dataset_samples.png')\n",
    "    \n",
    "    plt.show()\n",
    "\n",
    "\n",
    "plot_datasets()"
   ]
  }
 ],
 "metadata": {
  "kernelspec": {
   "display_name": "Python 3",
   "language": "python",
   "name": "python3"
  },
  "language_info": {
   "codemirror_mode": {
    "name": "ipython",
    "version": 3
   },
   "file_extension": ".py",
   "mimetype": "text/x-python",
   "name": "python",
   "nbconvert_exporter": "python",
   "pygments_lexer": "ipython3",
   "version": "3.8.8"
  },
  "orig_nbformat": 4,
  "vscode": {
   "interpreter": {
    "hash": "5d8d7019ea07486b9b3f42d10adfdabc3c0ed99a04a0337cb961ee7609e50b1c"
   }
  }
 },
 "nbformat": 4,
 "nbformat_minor": 2
}
