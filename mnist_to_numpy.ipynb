{
 "cells": [
  {
   "attachments": {},
   "cell_type": "markdown",
   "metadata": {},
   "source": [
    "# Convert MNIST to NPY\n",
    "\n",
    "Notebook for converting the MNIST dataset into the format that we use for our own datasets, namely .npy files\n",
    "Images are grayscale and scaled to 0..1 "
   ]
  },
  {
   "cell_type": "code",
   "execution_count": null,
   "metadata": {},
   "outputs": [],
   "source": [
    "from torchvision import datasets, transforms\n",
    "import numpy as np"
   ]
  },
  {
   "cell_type": "code",
   "execution_count": null,
   "metadata": {},
   "outputs": [],
   "source": [
    "train_dataset = datasets.MNIST('.data', train=True, download=True, transform=transforms.ToTensor())\n",
    "test_dataset = datasets.MNIST('.data', train=False, transform=transforms.ToTensor())\n",
    "train_dataset = train_dataset.data.numpy()\n",
    "test_dataset = test_dataset.data.numpy()\n",
    "print(train_dataset.shape)\n",
    "print(test_dataset.shape)"
   ]
  },
  {
   "cell_type": "code",
   "execution_count": null,
   "metadata": {},
   "outputs": [],
   "source": [
    "print(np.min(train_dataset), np.max(train_dataset))\n",
    "print(np.min(test_dataset), np.max(test_dataset))\n",
    "\n",
    "# Normalize\n",
    "normalization = 1 / 255.\n",
    "train_dataset = normalization * train_dataset\n",
    "test_dataset = normalization * test_dataset"
   ]
  },
  {
   "cell_type": "code",
   "execution_count": null,
   "metadata": {},
   "outputs": [],
   "source": [
    "np.save('mnist_train.npy', train_dataset)\n",
    "np.save('mnist_test.npy', test_dataset)"
   ]
  }
 ],
 "metadata": {
  "kernelspec": {
   "display_name": "Python 3",
   "language": "python",
   "name": "python3"
  },
  "language_info": {
   "codemirror_mode": {
    "name": "ipython",
    "version": 3
   },
   "file_extension": ".py",
   "mimetype": "text/x-python",
   "name": "python",
   "nbconvert_exporter": "python",
   "pygments_lexer": "ipython3",
   "version": "3.8.8"
  },
  "orig_nbformat": 4,
  "vscode": {
   "interpreter": {
    "hash": "5d8d7019ea07486b9b3f42d10adfdabc3c0ed99a04a0337cb961ee7609e50b1c"
   }
  }
 },
 "nbformat": 4,
 "nbformat_minor": 2
}
